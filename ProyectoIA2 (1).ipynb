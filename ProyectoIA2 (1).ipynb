{
  "cells": [
    {
      "cell_type": "markdown",
      "metadata": {
        "id": "EcgK62RiP8xB"
      },
      "source": [
        "## **Proyecto IA 2**                                 \n",
        "### **Estudiantes:**                      \n",
        "Jhordanth Fabian Villamizar Peñaranda  \n",
        "Yerson Stewell Ibarra Rueda\n",
        "  \n",
        "# **Identificación de fracturas oseas en radiografías.**\n",
        "  \n",
        "Las fracturas vertebrales se asocian más frecuentemente a edad geriátrica y etiología osteoporótica. Clínicamente, un gran número de ellas son asintomáticas, sin embargo esto no les resta importancia.  El correcto diagnóstico de una fractura vertebral va a suponer un buen manejo terapéutico que sirva de prevención para la aparición de nuevas fracturas tanto vertebrales como no vertebrales y con ello una menor morbimortalidad.\n",
        "\n",
        "Se analiza mediante un estudio transversal, el diagnóstico de fracturas vertebrales en la radiografía lateral de tórax y la comparan con la radiografía de columna del mismo paciente."
      ]
    },
    {
      "cell_type": "code",
      "execution_count": 1,
      "metadata": {
        "id": "29FBItE7Z1w5",
        "colab": {
          "base_uri": "https://localhost:8080/"
        },
        "outputId": "5c58a2e1-8ee7-4336-d4ee-4a7455584208"
      },
      "outputs": [
        {
          "output_type": "stream",
          "name": "stdout",
          "text": [
            "Mounted at /content/drive\n",
            "/content/drive/MyDrive/Identificación-de-fracturas-Oseas-en-radiografías/archive (6)\n"
          ]
        }
      ],
      "source": [
        "import os\n",
        "from google.colab import drive\n",
        "drive.mount('/content/drive')\n",
        "os.chdir('/content/drive/MyDrive/Identificación-de-fracturas-Oseas-en-radiografías/archive (6)')\n",
        "print(os.getcwd())"
      ]
    },
    {
      "cell_type": "code",
      "execution_count": 28,
      "metadata": {
        "id": "eKpPXS46WJCu"
      },
      "outputs": [],
      "source": [
        "import numpy as np\n",
        "import numpy as np\n",
        "import pandas as pd\n",
        "import tensorflow as tf\n",
        "from keras import Sequential\n",
        "from tensorflow.keras.layers import *\n",
        "from tensorflow.keras.models import * \n",
        "from tensorflow.keras.preprocessing import image\n",
        "from tensorflow.keras.callbacks import EarlyStopping\n",
        "from tensorflow import keras\n"
      ]
    },
    {
      "cell_type": "code",
      "execution_count": 3,
      "metadata": {
        "id": "WR5Fp-AKQA6V"
      },
      "outputs": [],
      "source": [
        "test_path = './val'\n",
        "train_path = './train'"
      ]
    },
    {
      "cell_type": "code",
      "execution_count": 4,
      "metadata": {
        "id": "VyUbIqd1Xb3A"
      },
      "outputs": [],
      "source": [
        "train_datagen = image.ImageDataGenerator(width_shift_range=0.2, height_shift_range=0.2, rotation_range=45, horizontal_flip=True)\n",
        "val_datagen= image.ImageDataGenerator(width_shift_range=0.2, height_shift_range=0.2, rotation_range=45, horizontal_flip=True)"
      ]
    },
    {
      "cell_type": "code",
      "execution_count": 5,
      "metadata": {
        "id": "plwzLIENXe74",
        "colab": {
          "base_uri": "https://localhost:8080/"
        },
        "outputId": "e7138605-2701-4c5f-f00c-84c0b5ee4b50"
      },
      "outputs": [
        {
          "output_type": "stream",
          "name": "stdout",
          "text": [
            "Found 8863 images belonging to 2 classes.\n",
            "Found 600 images belonging to 2 classes.\n"
          ]
        }
      ],
      "source": [
        "train_generator = train_datagen.flow_from_directory(\n",
        "    train_path,\n",
        "    target_size = (224,224),\n",
        "    shuffle=True,\n",
        "    class_mode = 'binary')\n",
        "validation_generator = val_datagen.flow_from_directory(\n",
        "    test_path,\n",
        "    target_size = (224,224),\n",
        "    shuffle=True,\n",
        "    class_mode = 'binary')"
      ]
    },
    {
      "cell_type": "code",
      "execution_count": null,
      "metadata": {
        "id": "N6PUMXFBrnvb",
        "colab": {
          "base_uri": "https://localhost:8080/"
        },
        "outputId": "f026e195-6010-465e-826d-b171b174209e"
      },
      "outputs": [
        {
          "output_type": "stream",
          "name": "stdout",
          "text": [
            "Model: \"sequential\"\n",
            "_________________________________________________________________\n",
            " Layer (type)                Output Shape              Param #   \n",
            "=================================================================\n",
            " conv2d (Conv2D)             (None, 224, 224, 224)     6272      \n",
            "                                                                 \n",
            " batch_normalization (BatchN  (None, 224, 224, 224)    896       \n",
            " ormalization)                                                   \n",
            "                                                                 \n",
            " conv2d_1 (Conv2D)           (None, 224, 224, 224)     451808    \n",
            "                                                                 \n",
            " batch_normalization_1 (Batc  (None, 224, 224, 224)    896       \n",
            " hNormalization)                                                 \n",
            "                                                                 \n",
            " max_pooling2d (MaxPooling2D  (None, 112, 112, 224)    0         \n",
            " )                                                               \n",
            "                                                                 \n",
            " dropout (Dropout)           (None, 112, 112, 224)     0         \n",
            "                                                                 \n",
            " conv2d_2 (Conv2D)           (None, 112, 112, 64)      129088    \n",
            "                                                                 \n",
            " batch_normalization_2 (Batc  (None, 112, 112, 64)     256       \n",
            " hNormalization)                                                 \n",
            "                                                                 \n",
            " conv2d_3 (Conv2D)           (None, 112, 112, 64)      36928     \n",
            "                                                                 \n",
            " batch_normalization_3 (Batc  (None, 112, 112, 64)     256       \n",
            " hNormalization)                                                 \n",
            "                                                                 \n",
            " conv2d_4 (Conv2D)           (None, 112, 112, 128)     73856     \n",
            "                                                                 \n",
            " batch_normalization_4 (Batc  (None, 112, 112, 128)    512       \n",
            " hNormalization)                                                 \n",
            "                                                                 \n",
            " dropout_1 (Dropout)         (None, 112, 112, 128)     0         \n",
            "                                                                 \n",
            " conv2d_5 (Conv2D)           (None, 112, 112, 128)     147584    \n",
            "                                                                 \n",
            " batch_normalization_5 (Batc  (None, 112, 112, 128)    512       \n",
            " hNormalization)                                                 \n",
            "                                                                 \n",
            " max_pooling2d_1 (MaxPooling  (None, 56, 56, 128)      0         \n",
            " 2D)                                                             \n",
            "                                                                 \n",
            " dropout_2 (Dropout)         (None, 56, 56, 128)       0         \n",
            "                                                                 \n",
            " dense (Dense)               (None, 56, 56, 128)       16512     \n",
            "                                                                 \n",
            " dropout_3 (Dropout)         (None, 56, 56, 128)       0         \n",
            "                                                                 \n",
            " max_pooling2d_2 (MaxPooling  (None, 28, 28, 128)      0         \n",
            " 2D)                                                             \n",
            "                                                                 \n",
            " dropout_4 (Dropout)         (None, 28, 28, 128)       0         \n",
            "                                                                 \n",
            " global_average_pooling2d (G  (None, 128)              0         \n",
            " lobalAveragePooling2D)                                          \n",
            "                                                                 \n",
            " dense_1 (Dense)             (None, 1)                 129       \n",
            "                                                                 \n",
            "=================================================================\n",
            "Total params: 865,505\n",
            "Trainable params: 863,841\n",
            "Non-trainable params: 1,664\n",
            "_________________________________________________________________\n"
          ]
        }
      ],
      "source": [
        "model_in_do_ba = tf.keras.models.Sequential()\n",
        "model_in_do_ba.add(tf.keras.layers.Conv2D(224, (3, 3), activation='relu', kernel_initializer='he_uniform', bias_initializer='he_uniform', padding='same', input_shape=(224, 224, 3)))\n",
        "model_in_do_ba.add(tf.keras.layers.BatchNormalization())\n",
        "model_in_do_ba.add(tf.keras.layers.Conv2D(224, (3, 3), activation='relu', kernel_initializer='he_uniform', bias_initializer='he_uniform', padding='same'))\n",
        "model_in_do_ba.add(tf.keras.layers.BatchNormalization())\n",
        "model_in_do_ba.add(tf.keras.layers.MaxPooling2D((2, 2)))\n",
        "model_in_do_ba.add(tf.keras.layers.Dropout(0.2))\n",
        "model_in_do_ba.add(tf.keras.layers.Conv2D(64, (3, 3), activation='relu', kernel_initializer='he_uniform', bias_initializer='he_uniform', padding='same'))\n",
        "model_in_do_ba.add(tf.keras.layers.BatchNormalization())\n",
        "model_in_do_ba.add(tf.keras.layers.Conv2D(64, (3, 3), activation='relu', kernel_initializer='he_uniform', bias_initializer='he_uniform', padding='same'))\n",
        "model_in_do_ba.add(tf.keras.layers.BatchNormalization())\n",
        "model_in_do_ba.add(tf.keras.layers.Conv2D(128, (3, 3), activation='relu', kernel_initializer='he_uniform', bias_initializer='he_uniform', padding='same'))\n",
        "model_in_do_ba.add(tf.keras.layers.BatchNormalization())\n",
        "model_in_do_ba.add(tf.keras.layers.Dropout(0.3))\n",
        "model_in_do_ba.add(tf.keras.layers.Conv2D(128, (3, 3), activation='relu', kernel_initializer='he_uniform', bias_initializer='he_uniform', padding='same'))\n",
        "model_in_do_ba.add(tf.keras.layers.BatchNormalization())\n",
        "model_in_do_ba.add(tf.keras.layers.MaxPooling2D((2, 2)))\n",
        "model_in_do_ba.add(tf.keras.layers.Dropout(0.2))\n",
        "model_in_do_ba.add(tf.keras.layers.Dense(128, kernel_initializer='glorot_uniform', bias_initializer='he_uniform',  activation='relu'))\n",
        "model_in_do_ba.add(tf.keras.layers.Dropout(0.2))\n",
        "model_in_do_ba.add(tf.keras.layers.MaxPooling2D((2, 2)))\n",
        "model_in_do_ba.add(tf.keras.layers.Dropout(0.2))\n",
        "model_in_do_ba.add(tf.keras.layers.GlobalAveragePooling2D())\n",
        "model_in_do_ba.add(tf.keras.layers.Dense(1, activation='sigmoid'))\n",
        "model_in_do_ba.summary()"
      ]
    },
    {
      "cell_type": "code",
      "execution_count": null,
      "metadata": {
        "id": "GfJ1vKu0xfgu",
        "colab": {
          "base_uri": "https://localhost:8080/",
          "height": 1000
        },
        "outputId": "78e8d6e4-e0bd-41af-e137-a90705a04355"
      },
      "outputs": [
        {
          "output_type": "stream",
          "name": "stdout",
          "text": [
            "Epoch 1/20\n",
            "100/100 [==============================] - 412s 4s/step - loss: 0.6560 - accuracy: 0.6122 - precision: 0.6008 - val_loss: 3.8380 - val_accuracy: 0.6000 - val_precision: 0.0000e+00\n",
            "Epoch 2/20\n",
            "100/100 [==============================] - 229s 2s/step - loss: 0.6212 - accuracy: 0.6480 - precision: 0.6343 - val_loss: 0.9963 - val_accuracy: 0.5733 - val_precision: 0.2647\n",
            "Epoch 3/20\n",
            "100/100 [==============================] - 199s 2s/step - loss: 0.6003 - accuracy: 0.6708 - precision: 0.6542 - val_loss: 0.6367 - val_accuracy: 0.5633 - val_precision: 0.4267\n",
            "Epoch 4/20\n",
            "100/100 [==============================] - 194s 2s/step - loss: 0.5792 - accuracy: 0.6634 - precision: 0.6541 - val_loss: 2.5958 - val_accuracy: 0.6000 - val_precision: 0.0000e+00\n",
            "Epoch 5/20\n",
            "100/100 [==============================] - 193s 2s/step - loss: 0.5620 - accuracy: 0.6994 - precision: 0.6840 - val_loss: 0.7625 - val_accuracy: 0.6150 - val_precision: 0.5119\n",
            "Epoch 6/20\n",
            "100/100 [==============================] - 193s 2s/step - loss: 0.5514 - accuracy: 0.7106 - precision: 0.6972 - val_loss: 1.7327 - val_accuracy: 0.3950 - val_precision: 0.3908\n",
            "Epoch 7/20\n",
            "100/100 [==============================] - 193s 2s/step - loss: 0.5437 - accuracy: 0.7125 - precision: 0.6912 - val_loss: 1.0745 - val_accuracy: 0.5267 - val_precision: 0.4424\n",
            "Epoch 8/20\n",
            "100/100 [==============================] - 192s 2s/step - loss: 0.5215 - accuracy: 0.7322 - precision: 0.7138 - val_loss: 0.9191 - val_accuracy: 0.5650 - val_precision: 0.4783\n",
            "Epoch 9/20\n",
            "100/100 [==============================] - 192s 2s/step - loss: 0.5209 - accuracy: 0.7305 - precision: 0.7135 - val_loss: 1.2503 - val_accuracy: 0.5367 - val_precision: 0.0250\n",
            "Epoch 10/20\n",
            "100/100 [==============================] - 192s 2s/step - loss: 0.4874 - accuracy: 0.7518 - precision: 0.7377 - val_loss: 0.5595 - val_accuracy: 0.7350 - val_precision: 0.6738\n",
            "Epoch 11/20\n",
            "100/100 [==============================] - 193s 2s/step - loss: 0.5003 - accuracy: 0.7499 - precision: 0.7326 - val_loss: 1.8936 - val_accuracy: 0.5967 - val_precision: 0.0000e+00\n",
            "Epoch 12/20\n",
            "100/100 [==============================] - 193s 2s/step - loss: 0.4658 - accuracy: 0.7749 - precision: 0.7592 - val_loss: 1.3041 - val_accuracy: 0.5600 - val_precision: 0.4721\n",
            "Epoch 13/20\n",
            "100/100 [==============================] - 191s 2s/step - loss: 0.4765 - accuracy: 0.7541 - precision: 0.7328 - val_loss: 1.1315 - val_accuracy: 0.5183 - val_precision: 0.4377\n",
            "Epoch 14/20\n",
            "100/100 [==============================] - 192s 2s/step - loss: 0.4560 - accuracy: 0.7771 - precision: 0.7665 - val_loss: 0.6711 - val_accuracy: 0.6100 - val_precision: 0.5116\n",
            "Epoch 15/20\n",
            "100/100 [==============================] - 191s 2s/step - loss: 0.4363 - accuracy: 0.7881 - precision: 0.7761 - val_loss: 0.7457 - val_accuracy: 0.6117 - val_precision: 0.5113\n",
            "Epoch 16/20\n",
            "100/100 [==============================] - 191s 2s/step - loss: 0.4405 - accuracy: 0.7844 - precision: 0.7702 - val_loss: 0.8475 - val_accuracy: 0.5533 - val_precision: 0.4650\n",
            "Epoch 17/20\n",
            "100/100 [==============================] - 192s 2s/step - loss: 0.4261 - accuracy: 0.7969 - precision: 0.7794 - val_loss: 4.5184 - val_accuracy: 0.4200 - val_precision: 0.3875\n",
            "Epoch 18/20\n",
            "100/100 [==============================] - 192s 2s/step - loss: 0.4098 - accuracy: 0.8078 - precision: 0.8046 - val_loss: 1.2587 - val_accuracy: 0.4583 - val_precision: 0.4032\n",
            "Epoch 19/20\n",
            "100/100 [==============================] - 191s 2s/step - loss: 0.3902 - accuracy: 0.8175 - precision: 0.7994 - val_loss: 1.0257 - val_accuracy: 0.5150 - val_precision: 0.3023\n",
            "Epoch 20/20\n",
            "100/100 [==============================] - 191s 2s/step - loss: 0.3975 - accuracy: 0.8222 - precision: 0.8079 - val_loss: 0.7850 - val_accuracy: 0.6367 - val_precision: 0.5385\n"
          ]
        },
        {
          "output_type": "display_data",
          "data": {
            "text/plain": [
              "<Figure size 720x360 with 2 Axes>"
            ],
            "image/png": "[encoded data removed]"
          },
          "metadata": {
            "needs_background": "light"
          }
        }
      ],
      "source": [
        "model_in_do_ba.compile(loss='binary_crossentropy',\n",
        "              optimizer='adam',\n",
        "              metrics=['accuracy','Precision'])\n",
        "import matplotlib.pyplot as plt\n",
        "history = model_in_do_ba.fit(train_generator, epochs=20,verbose=1,steps_per_epoch= 100,validation_data=validation_generator)\n",
        "fig = plt.figure(figsize=(10,5))\n",
        "ax = fig.add_subplot(1, 2, 1)\n",
        "ax.plot(history.history['accuracy'], label='Train Accuracy');\n",
        "ax.plot(history.history['val_accuracy'], label='Validation Accuracy');\n",
        "ax.set_xlabel('Epochs');\n",
        "ax.set_ylabel('Accuracy');\n",
        "ax.legend();\n",
        "ax = fig.add_subplot(1, 2, 2)\n",
        "ax.plot(history.history['loss'], label='train loss');\n",
        "ax.plot(history.history['val_loss'], label='evaluation loss');\n",
        "ax.legend();\n",
        "ax.set_xlabel('Epochs');\n",
        "ax.set_ylabel('Loss');"
      ]
    },
    {
      "cell_type": "code",
      "execution_count": null,
      "metadata": {
        "id": "v8ppa7LRl4_b",
        "colab": {
          "base_uri": "https://localhost:8080/"
        },
        "outputId": "d24627b4-fe19-4326-caad-270cb690484b"
      },
      "outputs": [
        {
          "output_type": "stream",
          "name": "stdout",
          "text": [
            "Downloading data from https://storage.googleapis.com/tensorflow/keras-applications/mobilenet_v2/mobilenet_v2_weights_tf_dim_ordering_tf_kernels_1.0_224_no_top.h5\n",
            "9406464/9406464 [==============================] - 0s 0us/step\n",
            "Model: \"sequential_1\"\n",
            "_________________________________________________________________\n",
            " Layer (type)                Output Shape              Param #   \n",
            "=================================================================\n",
            " mobilenetv2_1.00_224 (Funct  (None, 7, 7, 1280)       2257984   \n",
            " ional)                                                          \n",
            "                                                                 \n",
            " global_average_pooling2d_1   (None, 1280)             0         \n",
            " (GlobalAveragePooling2D)                                        \n",
            "                                                                 \n",
            " dense_2 (Dense)             (None, 128)               163968    \n",
            "                                                                 \n",
            " dense_3 (Dense)             (None, 64)                8256      \n",
            "                                                                 \n",
            " dense_4 (Dense)             (None, 1)                 65        \n",
            "                                                                 \n",
            "=================================================================\n",
            "Total params: 2,430,273\n",
            "Trainable params: 172,289\n",
            "Non-trainable params: 2,257,984\n",
            "_________________________________________________________________\n"
          ]
        }
      ],
      "source": [
        "model_A = tf.keras.applications.MobileNetV2(input_shape=(224,224,3), weights='imagenet', include_top=False)\n",
        "\n",
        "model_A.trainable = False\n",
        "\n",
        "model_B = Sequential()\n",
        "model_B.add(model_A)\n",
        "model_B.add(GlobalAveragePooling2D())\n",
        "model_B.add(Dense(128))\n",
        "model_B.add(Dense(64))\n",
        "model_B.add(Dense(1, activation='sigmoid'))\n",
        "\n",
        "model_B.summary()"
      ]
    },
    {
      "cell_type": "code",
      "execution_count": null,
      "metadata": {
        "id": "hbQ9BcR_n_wX",
        "colab": {
          "base_uri": "https://localhost:8080/"
        },
        "outputId": "00818818-b7b5-4583-a996-873590a8287d"
      },
      "outputs": [
        {
          "output_type": "stream",
          "name": "stdout",
          "text": [
            "Epoch 1/10\n",
            "50/50 [==============================] - 79s 2s/step - loss: 1.0554 - accuracy: 0.5462 - precision: 0.5507 - val_loss: 0.6537 - val_accuracy: 0.6150 - val_precision: 0.5150\n",
            "Epoch 2/10\n",
            "50/50 [==============================] - 66s 1s/step - loss: 0.6923 - accuracy: 0.5750 - precision: 0.5756 - val_loss: 0.6562 - val_accuracy: 0.6000 - val_precision: 0.5000\n",
            "Epoch 3/10\n",
            "50/50 [==============================] - 61s 1s/step - loss: 0.6564 - accuracy: 0.6119 - precision: 0.5873 - val_loss: 0.6096 - val_accuracy: 0.6483 - val_precision: 0.6629\n",
            "Epoch 4/10\n",
            "50/50 [==============================] - 57s 1s/step - loss: 0.6747 - accuracy: 0.6012 - precision: 0.5881 - val_loss: 0.6638 - val_accuracy: 0.6217 - val_precision: 0.7600\n",
            "Epoch 5/10\n",
            "50/50 [==============================] - 50s 994ms/step - loss: 0.6720 - accuracy: 0.5913 - precision: 0.5925 - val_loss: 0.6292 - val_accuracy: 0.6633 - val_precision: 0.5613\n",
            "Epoch 6/10\n",
            "50/50 [==============================] - 47s 933ms/step - loss: 0.6565 - accuracy: 0.6194 - precision: 0.6047 - val_loss: 0.6514 - val_accuracy: 0.6050 - val_precision: 0.5405\n",
            "Epoch 7/10\n",
            "50/50 [==============================] - 40s 810ms/step - loss: 0.6367 - accuracy: 0.6250 - precision: 0.6272 - val_loss: 0.6675 - val_accuracy: 0.5950 - val_precision: 0.4958\n",
            "Epoch 8/10\n",
            "50/50 [==============================] - 39s 782ms/step - loss: 0.6224 - accuracy: 0.6506 - precision: 0.6420 - val_loss: 0.6421 - val_accuracy: 0.6117 - val_precision: 0.5150\n",
            "Epoch 9/10\n",
            "50/50 [==============================] - 39s 774ms/step - loss: 0.6591 - accuracy: 0.6231 - precision: 0.6228 - val_loss: 0.7785 - val_accuracy: 0.5250 - val_precision: 0.4561\n",
            "Epoch 10/10\n",
            "50/50 [==============================] - 41s 822ms/step - loss: 0.6550 - accuracy: 0.6156 - precision: 0.6111 - val_loss: 0.6684 - val_accuracy: 0.6117 - val_precision: 0.5107\n"
          ]
        }
      ],
      "source": [
        "model_B.compile(loss='binary_crossentropy',\n",
        "              optimizer='adam',\n",
        "              metrics=['accuracy','Precision'])\n",
        "history = model_B.fit(train_generator, epochs=10,verbose=1,steps_per_epoch= 50,validation_data=validation_generator)"
      ]
    },
    {
      "cell_type": "code",
      "execution_count": null,
      "metadata": {
        "id": "acJqMupMoL2u",
        "colab": {
          "base_uri": "https://localhost:8080/"
        },
        "outputId": "2b817eb0-40d7-48f8-c277-363bc22acc00"
      },
      "outputs": [
        {
          "output_type": "display_data",
          "data": {
            "text/plain": [
              "<Figure size 720x360 with 2 Axes>"
            ],
            "image/png": "[encoded data removed]"
          },
          "metadata": {
            "needs_background": "light"
          }
        }
      ],
      "source": [
        "#@title **code**. To show prediction for a specific image\n",
        "import matplotlib.pyplot as plt\n",
        "fig = plt.figure(figsize=(10,5))\n",
        "ax = fig.add_subplot(1, 2, 1)\n",
        "ax.plot(history.history['accuracy'], label='Train Accuracy');\n",
        "ax.plot(history.history['val_accuracy'], label='Validation Accuracy');\n",
        "ax.set_xlabel('Epochs');\n",
        "ax.set_ylabel('Accuracy');\n",
        "ax.legend();\n",
        "ax = fig.add_subplot(1, 2, 2)\n",
        "ax.plot(history.history['loss'], label='train loss');\n",
        "ax.plot(history.history['val_loss'], label='evaluation loss');\n",
        "ax.legend();\n",
        "ax.set_xlabel('Epochs');\n",
        "ax.set_ylabel('Loss');"
      ]
    },
    {
      "cell_type": "markdown",
      "source": [
        "#usado la inseption"
      ],
      "metadata": {
        "id": "zIPTzSWWvrd4"
      }
    },
    {
      "cell_type": "code",
      "source": [
        "model_A = tf.keras.applications.InceptionV3(input_shape=(224,224,3), weights='imagenet', include_top=False)\n",
        "\n",
        "model_A.trainable = False\n",
        "\n",
        "model_B = Sequential()\n",
        "model_B.add(model_A)\n",
        "model_B.add(GlobalAveragePooling2D())\n",
        "model_B.add(Dense(64))\n",
        "model_B.add(Dense(32))\n",
        "model_B.add(Dense(1, activation='sigmoid'))\n",
        "\n",
        "model_B.summary()"
      ],
      "metadata": {
        "colab": {
          "base_uri": "https://localhost:8080/"
        },
        "id": "CHZQWEakvrJD",
        "outputId": "35ba98a7-ed83-4611-d26d-07522aeced14"
      },
      "execution_count": 62,
      "outputs": [
        {
          "output_type": "stream",
          "name": "stdout",
          "text": [
            "Model: \"sequential_3\"\n",
            "_________________________________________________________________\n",
            " Layer (type)                Output Shape              Param #   \n",
            "=================================================================\n",
            " inception_v3 (Functional)   (None, 5, 5, 2048)        21802784  \n",
            "                                                                 \n",
            " global_average_pooling2d_3   (None, 2048)             0         \n",
            " (GlobalAveragePooling2D)                                        \n",
            "                                                                 \n",
            " dense_7 (Dense)             (None, 64)                131136    \n",
            "                                                                 \n",
            " dense_8 (Dense)             (None, 32)                2080      \n",
            "                                                                 \n",
            " dense_9 (Dense)             (None, 1)                 33        \n",
            "                                                                 \n",
            "=================================================================\n",
            "Total params: 21,936,033\n",
            "Trainable params: 133,249\n",
            "Non-trainable params: 21,802,784\n",
            "_________________________________________________________________\n"
          ]
        }
      ]
    },
    {
      "cell_type": "code",
      "source": [
        "model_B.compile(loss='binary_crossentropy',\n",
        "              optimizer='adam',\n",
        "              metrics=['accuracy','Precision'])\n",
        "history = model_B.fit(train_generator, epochs=20,verbose=1,steps_per_epoch= 100,validation_data=validation_generator,callbacks=[EarlyStopping(patience=5, restore_best_weights = True)])"
      ],
      "metadata": {
        "id": "SYi7s_vOv0vx",
        "colab": {
          "base_uri": "https://localhost:8080/"
        },
        "outputId": "fb01e9e8-286e-4ac5-d970-f29f6100573d"
      },
      "execution_count": 63,
      "outputs": [
        {
          "output_type": "stream",
          "name": "stdout",
          "text": [
            "Epoch 1/20\n",
            "100/100 [==============================] - 64s 580ms/step - loss: 5.9737 - accuracy: 0.5330 - precision: 0.5389 - val_loss: 1.1692 - val_accuracy: 0.5867 - val_precision: 0.4800\n",
            "Epoch 2/20\n",
            "100/100 [==============================] - 54s 539ms/step - loss: 1.2749 - accuracy: 0.5791 - precision: 0.5663 - val_loss: 1.1504 - val_accuracy: 0.5500 - val_precision: 0.4659\n",
            "Epoch 3/20\n",
            "100/100 [==============================] - 55s 547ms/step - loss: 1.0280 - accuracy: 0.6027 - precision: 0.5874 - val_loss: 1.4057 - val_accuracy: 0.4717 - val_precision: 0.4283\n",
            "Epoch 4/20\n",
            "100/100 [==============================] - 54s 538ms/step - loss: 0.8224 - accuracy: 0.5966 - precision: 0.5945 - val_loss: 1.0437 - val_accuracy: 0.5250 - val_precision: 0.4547\n",
            "Epoch 5/20\n",
            "100/100 [==============================] - 53s 535ms/step - loss: 0.7336 - accuracy: 0.6144 - precision: 0.6079 - val_loss: 0.6996 - val_accuracy: 0.5983 - val_precision: 0.4968\n",
            "Epoch 6/20\n",
            "100/100 [==============================] - 53s 530ms/step - loss: 0.7141 - accuracy: 0.6278 - precision: 0.6248 - val_loss: 0.8620 - val_accuracy: 0.4617 - val_precision: 0.3818\n",
            "Epoch 7/20\n",
            "100/100 [==============================] - 53s 532ms/step - loss: 0.6725 - accuracy: 0.6302 - precision: 0.6249 - val_loss: 0.7483 - val_accuracy: 0.5550 - val_precision: 0.4698\n",
            "Epoch 8/20\n",
            "100/100 [==============================] - 53s 535ms/step - loss: 0.6599 - accuracy: 0.6318 - precision: 0.6226 - val_loss: 1.2152 - val_accuracy: 0.4883 - val_precision: 0.4381\n",
            "Epoch 9/20\n",
            "100/100 [==============================] - 53s 534ms/step - loss: 0.6790 - accuracy: 0.6186 - precision: 0.6137 - val_loss: 0.8268 - val_accuracy: 0.5200 - val_precision: 0.3710\n",
            "Epoch 10/20\n",
            "100/100 [==============================] - 53s 532ms/step - loss: 0.6541 - accuracy: 0.6334 - precision: 0.6343 - val_loss: 0.6804 - val_accuracy: 0.5950 - val_precision: 0.4930\n",
            "Epoch 11/20\n",
            "100/100 [==============================] - 54s 535ms/step - loss: 0.6303 - accuracy: 0.6481 - precision: 0.6411 - val_loss: 0.6659 - val_accuracy: 0.6017 - val_precision: 0.5019\n",
            "Epoch 12/20\n",
            "100/100 [==============================] - 53s 535ms/step - loss: 0.6459 - accuracy: 0.6288 - precision: 0.6256 - val_loss: 0.7916 - val_accuracy: 0.5367 - val_precision: 0.4612\n",
            "Epoch 13/20\n",
            "100/100 [==============================] - 54s 544ms/step - loss: 0.6347 - accuracy: 0.6493 - precision: 0.6388 - val_loss: 0.8368 - val_accuracy: 0.4683 - val_precision: 0.3947\n",
            "Epoch 14/20\n",
            "100/100 [==============================] - 53s 531ms/step - loss: 0.6362 - accuracy: 0.6411 - precision: 0.6295 - val_loss: 0.6810 - val_accuracy: 0.5917 - val_precision: 0.4945\n",
            "Epoch 15/20\n",
            "100/100 [==============================] - 53s 532ms/step - loss: 0.6766 - accuracy: 0.6000 - precision: 0.5985 - val_loss: 0.6748 - val_accuracy: 0.5650 - val_precision: 0.4717\n",
            "Epoch 16/20\n",
            "100/100 [==============================] - 53s 530ms/step - loss: 0.6311 - accuracy: 0.6472 - precision: 0.6377 - val_loss: 0.6068 - val_accuracy: 0.6383 - val_precision: 0.5477\n",
            "Epoch 17/20\n",
            "100/100 [==============================] - 53s 530ms/step - loss: 0.6499 - accuracy: 0.6372 - precision: 0.6310 - val_loss: 0.6748 - val_accuracy: 0.5883 - val_precision: 0.4917\n",
            "Epoch 18/20\n",
            "100/100 [==============================] - 53s 533ms/step - loss: 0.7003 - accuracy: 0.6184 - precision: 0.6191 - val_loss: 0.6274 - val_accuracy: 0.6217 - val_precision: 0.5294\n",
            "Epoch 19/20\n",
            "100/100 [==============================] - 53s 530ms/step - loss: 0.6468 - accuracy: 0.6359 - precision: 0.6347 - val_loss: 0.6923 - val_accuracy: 0.6083 - val_precision: 0.5214\n",
            "Epoch 20/20\n",
            "100/100 [==============================] - 54s 536ms/step - loss: 0.6332 - accuracy: 0.6516 - precision: 0.6399 - val_loss: 0.6336 - val_accuracy: 0.6183 - val_precision: 0.5247\n"
          ]
        }
      ]
    },
    {
      "cell_type": "code",
      "source": [
        "model_B.save('/content/drive/MyDrive/Identificación-de-fracturas-Oseas-en-radiografías/modelFirstTrain.h5')"
      ],
      "metadata": {
        "id": "LG3uJoWI7RaS"
      },
      "execution_count": 64,
      "outputs": []
    },
    {
      "cell_type": "code",
      "source": [
        "#@title **code**. To show prediction for a specific image\n",
        "import matplotlib.pyplot as plt\n",
        "fig = plt.figure(figsize=(10,5))\n",
        "ax = fig.add_subplot(1, 2, 1)\n",
        "ax.plot(history.history['accuracy'], label='Train Accuracy');\n",
        "ax.plot(history.history['val_accuracy'], label='Validation Accuracy');\n",
        "ax.set_xlabel('Epochs');\n",
        "ax.set_ylabel('Accuracy');\n",
        "ax.legend();\n",
        "ax = fig.add_subplot(1, 2, 2)\n",
        "ax.plot(history.history['loss'], label='train loss');\n",
        "ax.plot(history.history['val_loss'], label='evaluation loss');\n",
        "ax.legend();\n",
        "ax.set_xlabel('Epochs');\n",
        "ax.set_ylabel('Loss');"
      ],
      "metadata": {
        "id": "oL2U1Dg4jy7n",
        "colab": {
          "base_uri": "https://localhost:8080/",
          "height": 334
        },
        "outputId": "f3491d46-9170-4962-ebdc-2c18696b2d3e"
      },
      "execution_count": 65,
      "outputs": [
        {
          "output_type": "display_data",
          "data": {
            "text/plain": [
              "<Figure size 720x360 with 2 Axes>"
            ],
            "image/png": "[encoded data removed]"
          },
          "metadata": {
            "needs_background": "light"
          }
        }
      ]
    },
    {
      "cell_type": "code",
      "source": [
        "model_A.trainable = True\n",
        "print(\"Total ayers of model_B_on_A: \", len(model_A.layers))\n",
        "for layer in model_A.layers[:250]:\n",
        " layer.trainable =  False\n",
        "model_B.summary()\n",
        "len(model_B.trainable_variables)"
      ],
      "metadata": {
        "id": "Q24nTt7oWybX",
        "colab": {
          "base_uri": "https://localhost:8080/"
        },
        "outputId": "b3dddd8b-b37c-4e7a-f8f4-b33831a0f46d"
      },
      "execution_count": 66,
      "outputs": [
        {
          "output_type": "stream",
          "name": "stdout",
          "text": [
            "Total ayers of model_B_on_A:  311\n",
            "Model: \"sequential_3\"\n",
            "_________________________________________________________________\n",
            " Layer (type)                Output Shape              Param #   \n",
            "=================================================================\n",
            " inception_v3 (Functional)   (None, 5, 5, 2048)        21802784  \n",
            "                                                                 \n",
            " global_average_pooling2d_3   (None, 2048)             0         \n",
            " (GlobalAveragePooling2D)                                        \n",
            "                                                                 \n",
            " dense_7 (Dense)             (None, 64)                131136    \n",
            "                                                                 \n",
            " dense_8 (Dense)             (None, 32)                2080      \n",
            "                                                                 \n",
            " dense_9 (Dense)             (None, 1)                 33        \n",
            "                                                                 \n",
            "=================================================================\n",
            "Total params: 21,936,033\n",
            "Trainable params: 10,674,689\n",
            "Non-trainable params: 11,261,344\n",
            "_________________________________________________________________\n"
          ]
        },
        {
          "output_type": "execute_result",
          "data": {
            "text/plain": [
              "41"
            ]
          },
          "metadata": {},
          "execution_count": 66
        }
      ]
    },
    {
      "cell_type": "code",
      "source": [
        "opt = tf.keras.optimizers.Adam(learning_rate=0.0005)\n",
        "model_B.compile(loss='binary_crossentropy',\n",
        "              optimizer=opt,\n",
        "              metrics=['accuracy','Precision'])\n",
        "history = model_B.fit(train_generator, epochs=10,verbose=1,steps_per_epoch= 100,validation_data=validation_generator,callbacks=[EarlyStopping(patience=3, restore_best_weights = True)])"
      ],
      "metadata": {
        "id": "MYS8yWr2XnQU",
        "colab": {
          "base_uri": "https://localhost:8080/"
        },
        "outputId": "bb68d74c-3d88-43d3-cbe1-41e68fbce30e"
      },
      "execution_count": 67,
      "outputs": [
        {
          "output_type": "stream",
          "name": "stdout",
          "text": [
            "Epoch 1/10\n",
            "100/100 [==============================] - 64s 550ms/step - loss: 0.6402 - accuracy: 0.6256 - precision: 0.6154 - val_loss: 1.3914 - val_accuracy: 0.5767 - val_precision: 0.2941\n",
            "Epoch 2/10\n",
            "100/100 [==============================] - 54s 535ms/step - loss: 0.5665 - accuracy: 0.6944 - precision: 0.6712 - val_loss: 0.9295 - val_accuracy: 0.6400 - val_precision: 0.5264\n",
            "Epoch 3/10\n",
            "100/100 [==============================] - 54s 543ms/step - loss: 0.5218 - accuracy: 0.7359 - precision: 0.7127 - val_loss: 0.8816 - val_accuracy: 0.6067 - val_precision: 0.5075\n",
            "Epoch 4/10\n",
            "100/100 [==============================] - 53s 534ms/step - loss: 0.4725 - accuracy: 0.7666 - precision: 0.7365 - val_loss: 1.2823 - val_accuracy: 0.6000 - val_precision: 0.5000\n",
            "Epoch 5/10\n",
            "100/100 [==============================] - 54s 542ms/step - loss: 0.4523 - accuracy: 0.7806 - precision: 0.7439 - val_loss: 0.7392 - val_accuracy: 0.5833 - val_precision: 0.4859\n",
            "Epoch 6/10\n",
            "100/100 [==============================] - 54s 539ms/step - loss: 0.4244 - accuracy: 0.7975 - precision: 0.7718 - val_loss: 0.6041 - val_accuracy: 0.6750 - val_precision: 0.5570\n",
            "Epoch 7/10\n",
            "100/100 [==============================] - 54s 538ms/step - loss: 0.4091 - accuracy: 0.8112 - precision: 0.7977 - val_loss: 0.6775 - val_accuracy: 0.6950 - val_precision: 0.5807\n",
            "Epoch 8/10\n",
            "100/100 [==============================] - 54s 539ms/step - loss: 0.3662 - accuracy: 0.8303 - precision: 0.8097 - val_loss: 0.7565 - val_accuracy: 0.6800 - val_precision: 0.5876\n",
            "Epoch 9/10\n",
            "100/100 [==============================] - 53s 531ms/step - loss: 0.3377 - accuracy: 0.8531 - precision: 0.8358 - val_loss: 2.0317 - val_accuracy: 0.5050 - val_precision: 0.4303\n"
          ]
        }
      ]
    },
    {
      "cell_type": "code",
      "source": [
        "model_A.trainable = True\n",
        "print(\"Total ayers of model_B_on_A: \", len(model_A.layers))\n",
        "for layer in model_A.layers[:120]:\n",
        " layer.trainable =  False\n",
        "model_B.summary()\n",
        "len(model_B.trainable_variables)"
      ],
      "metadata": {
        "colab": {
          "base_uri": "https://localhost:8080/"
        },
        "id": "6KW9a2Lmnjh2",
        "outputId": "bbeec1ec-13de-41fb-df2b-46db844e5cd8"
      },
      "execution_count": 68,
      "outputs": [
        {
          "output_type": "stream",
          "name": "stdout",
          "text": [
            "Total ayers of model_B_on_A:  311\n",
            "Model: \"sequential_3\"\n",
            "_________________________________________________________________\n",
            " Layer (type)                Output Shape              Param #   \n",
            "=================================================================\n",
            " inception_v3 (Functional)   (None, 5, 5, 2048)        21802784  \n",
            "                                                                 \n",
            " global_average_pooling2d_3   (None, 2048)             0         \n",
            " (GlobalAveragePooling2D)                                        \n",
            "                                                                 \n",
            " dense_7 (Dense)             (None, 64)                131136    \n",
            "                                                                 \n",
            " dense_8 (Dense)             (None, 32)                2080      \n",
            "                                                                 \n",
            " dense_9 (Dense)             (None, 1)                 33        \n",
            "                                                                 \n",
            "=================================================================\n",
            "Total params: 21,936,033\n",
            "Trainable params: 19,103,489\n",
            "Non-trainable params: 2,832,544\n",
            "_________________________________________________________________\n"
          ]
        },
        {
          "output_type": "execute_result",
          "data": {
            "text/plain": [
              "122"
            ]
          },
          "metadata": {},
          "execution_count": 68
        }
      ]
    },
    {
      "cell_type": "code",
      "source": [
        "opt = tf.keras.optimizers.Adam(learning_rate=0.00025)\n",
        "model_B.compile(loss='binary_crossentropy',\n",
        "              optimizer=opt,\n",
        "              metrics=['accuracy','Precision'])\n",
        "history = model_B.fit(train_generator, epochs=10,verbose=1,steps_per_epoch= 100,validation_data=validation_generator,callbacks=[EarlyStopping(patience=4, restore_best_weights = True)])"
      ],
      "metadata": {
        "id": "ggfNHzlenlKe",
        "colab": {
          "base_uri": "https://localhost:8080/"
        },
        "outputId": "a2ceb2a6-f58f-40f7-ec69-8cd8a2fab74d"
      },
      "execution_count": 69,
      "outputs": [
        {
          "output_type": "stream",
          "name": "stdout",
          "text": [
            "Epoch 1/10\n",
            "100/100 [==============================] - 79s 577ms/step - loss: 0.6555 - accuracy: 0.6221 - precision: 0.6034 - val_loss: 0.7226 - val_accuracy: 0.4000 - val_precision: 0.4000\n",
            "Epoch 2/10\n",
            "100/100 [==============================] - 56s 558ms/step - loss: 0.5096 - accuracy: 0.7465 - precision: 0.7245 - val_loss: 0.7005 - val_accuracy: 0.5983 - val_precision: 0.0000e+00\n",
            "Epoch 3/10\n",
            "100/100 [==============================] - 57s 569ms/step - loss: 0.4388 - accuracy: 0.7977 - precision: 0.7813 - val_loss: 0.7359 - val_accuracy: 0.6000 - val_precision: 0.0000e+00\n",
            "Epoch 4/10\n",
            "100/100 [==============================] - 55s 552ms/step - loss: 0.3553 - accuracy: 0.8534 - precision: 0.8404 - val_loss: 0.7244 - val_accuracy: 0.6000 - val_precision: 0.0000e+00\n",
            "Epoch 5/10\n",
            "100/100 [==============================] - 56s 557ms/step - loss: 0.2806 - accuracy: 0.8831 - precision: 0.8676 - val_loss: 0.8403 - val_accuracy: 0.5967 - val_precision: 0.0000e+00\n",
            "Epoch 6/10\n",
            "100/100 [==============================] - 56s 556ms/step - loss: 0.2626 - accuracy: 0.8909 - precision: 0.8758 - val_loss: 0.6242 - val_accuracy: 0.6517 - val_precision: 0.7460\n",
            "Epoch 7/10\n",
            "100/100 [==============================] - 57s 564ms/step - loss: 0.2211 - accuracy: 0.9103 - precision: 0.8978 - val_loss: 0.5588 - val_accuracy: 0.7033 - val_precision: 0.6240\n",
            "Epoch 8/10\n",
            "100/100 [==============================] - 55s 550ms/step - loss: 0.2020 - accuracy: 0.9137 - precision: 0.9040 - val_loss: 0.7175 - val_accuracy: 0.7150 - val_precision: 0.6169\n",
            "Epoch 9/10\n",
            "100/100 [==============================] - 55s 551ms/step - loss: 0.1883 - accuracy: 0.9319 - precision: 0.9244 - val_loss: 1.6787 - val_accuracy: 0.5950 - val_precision: 0.4946\n",
            "Epoch 10/10\n",
            "100/100 [==============================] - 55s 552ms/step - loss: 0.1761 - accuracy: 0.9262 - precision: 0.9202 - val_loss: 0.5613 - val_accuracy: 0.7650 - val_precision: 0.7200\n"
          ]
        }
      ]
    },
    {
      "cell_type": "code",
      "source": [
        "model_B.save(\"/content/drive/MyDrive/Identificación-de-fracturas-Oseas-en-radiografías/model_Trained_B.hdf5\")"
      ],
      "metadata": {
        "id": "jvz9C6cjc8bS"
      },
      "execution_count": 72,
      "outputs": []
    },
    {
      "cell_type": "code",
      "source": [
        "model_A.trainable = True\n",
        "# print(\"Total ayers of model_B_on_A: \", len(model_A.layers))\n",
        "# for layer in model_A.layers[:]:\n",
        "#  layer.trainable =  False\n",
        "model_B.summary()\n",
        "len(model_B.trainable_variables)"
      ],
      "metadata": {
        "colab": {
          "base_uri": "https://localhost:8080/"
        },
        "id": "0iR93tNeno9w",
        "outputId": "6fd9338d-5bca-4222-8f48-59da23bd353f"
      },
      "execution_count": 70,
      "outputs": [
        {
          "output_type": "stream",
          "name": "stdout",
          "text": [
            "Total ayers of model_B_on_A:  311\n",
            "Model: \"sequential_3\"\n",
            "_________________________________________________________________\n",
            " Layer (type)                Output Shape              Param #   \n",
            "=================================================================\n",
            " inception_v3 (Functional)   (None, 5, 5, 2048)        21802784  \n",
            "                                                                 \n",
            " global_average_pooling2d_3   (None, 2048)             0         \n",
            " (GlobalAveragePooling2D)                                        \n",
            "                                                                 \n",
            " dense_7 (Dense)             (None, 64)                131136    \n",
            "                                                                 \n",
            " dense_8 (Dense)             (None, 32)                2080      \n",
            "                                                                 \n",
            " dense_9 (Dense)             (None, 1)                 33        \n",
            "                                                                 \n",
            "=================================================================\n",
            "Total params: 21,936,033\n",
            "Trainable params: 133,249\n",
            "Non-trainable params: 21,802,784\n",
            "_________________________________________________________________\n"
          ]
        },
        {
          "output_type": "execute_result",
          "data": {
            "text/plain": [
              "6"
            ]
          },
          "metadata": {},
          "execution_count": 70
        }
      ]
    },
    {
      "cell_type": "code",
      "source": [
        "opt = tf.keras.optimizers.Adam(learning_rate=0.00001)\n",
        "model_B.compile(loss='binary_crossentropy',\n",
        "              optimizer=opt,\n",
        "              metrics=['accuracy','Precision'])\n",
        "history = model_B.fit(train_generator, epochs=10,verbose=1,steps_per_epoch= 100,validation_data=validation_generator,callbacks=[EarlyStopping(patience=5, restore_best_weights = True)])"
      ],
      "metadata": {
        "id": "3_lostnNnqw3",
        "colab": {
          "base_uri": "https://localhost:8080/"
        },
        "outputId": "415b6729-4428-456a-eec1-1db577b0eb3f"
      },
      "execution_count": null,
      "outputs": [
        {
          "output_type": "stream",
          "name": "stdout",
          "text": [
            "Epoch 1/10\n",
            "100/100 [==============================] - 60s 551ms/step - loss: 0.1997 - accuracy: 0.9219 - precision: 0.9364 - val_loss: 0.6286 - val_accuracy: 0.7517 - val_precision: 0.6798\n",
            "Epoch 2/10\n",
            "100/100 [==============================] - 53s 535ms/step - loss: 0.2171 - accuracy: 0.9119 - precision: 0.9273 - val_loss: 0.6318 - val_accuracy: 0.7650 - val_precision: 0.6749\n",
            "Epoch 3/10\n",
            "100/100 [==============================] - 53s 530ms/step - loss: 0.2211 - accuracy: 0.9109 - precision: 0.9158 - val_loss: 0.6539 - val_accuracy: 0.7400 - val_precision: 0.6448\n",
            "Epoch 4/10\n",
            "100/100 [==============================] - 53s 535ms/step - loss: 0.2123 - accuracy: 0.9150 - precision: 0.9240 - val_loss: 0.5869 - val_accuracy: 0.7517 - val_precision: 0.6619\n",
            "Epoch 5/10\n",
            "100/100 [==============================] - ETA: 0s - loss: 0.2170 - accuracy: 0.9050 - precision: 0.9110"
          ]
        }
      ]
    }
  ],
  "metadata": {
    "accelerator": "GPU",
    "colab": {
      "provenance": []
    },
    "gpuClass": "standard",
    "kernelspec": {
      "display_name": "Python 3",
      "name": "python3"
    },
    "language_info": {
      "name": "python"
    }
  },
  "nbformat": 4,
  "nbformat_minor": 0
}